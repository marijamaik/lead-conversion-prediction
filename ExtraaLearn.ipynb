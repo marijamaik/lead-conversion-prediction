{
 "cells": [
  {
   "cell_type": "markdown",
   "id": "AT5OogJVFbwu",
   "metadata": {
    "id": "AT5OogJVFbwu"
   },
   "source": [
    "# ExtraaLearn Project"
   ]
  },
  {
   "cell_type": "markdown",
   "id": "dirty-island",
   "metadata": {
    "id": "dirty-island"
   },
   "source": [
    "## Importing necessary libraries and data"
   ]
  },
  {
   "cell_type": "code",
   "execution_count": 429,
   "id": "statewide-still",
   "metadata": {
    "id": "statewide-still"
   },
   "outputs": [],
   "source": [
    "# Import libraries for reading, visualizing and manipulating data\n",
    "import pandas as pd\n",
    "import numpy as np\n",
    "import matplotlib.pyplot as plt\n",
    "import seaborn as sns\n",
    "\n",
    "# Library to split data\n",
    "from sklearn.model_selection import train_test_split\n",
    "\n",
    "# Decision tree, Random Forest algorithms\n",
    "from sklearn.tree import DecisionTreeClassifier\n",
    "from sklearn import tree\n",
    "from sklearn.ensemble import RandomForestClassifier\n",
    "\n",
    "# Model performance evaluation imports\n",
    "from sklearn.metrics import confusion_matrix, classification_report, f1_score, recall_score\n",
    "from sklearn import metrics\n",
    "\n",
    "# Hyperparameter tuning imports\n",
    "from sklearn.model_selection import GridSearchCV"
   ]
  },
  {
   "cell_type": "code",
   "execution_count": 430,
   "id": "df1d88f6-cedf-429c-8914-1331afd7cdc6",
   "metadata": {},
   "outputs": [],
   "source": [
    "# Read the data\n",
    "lead = pd.read_csv('ExtraaLearn.csv')"
   ]
  },
  {
   "cell_type": "code",
   "execution_count": 431,
   "id": "f5f49077-5852-471a-8f59-8c22b4783041",
   "metadata": {},
   "outputs": [],
   "source": [
    "# Copy the data in a new variable\n",
    "df = lead.copy()"
   ]
  },
  {
   "cell_type": "code",
   "execution_count": 432,
   "id": "155a2c51-4fdf-4f71-bd8f-e106f318c84d",
   "metadata": {},
   "outputs": [
    {
     "data": {
      "text/html": [
       "<div>\n",
       "<style scoped>\n",
       "    .dataframe tbody tr th:only-of-type {\n",
       "        vertical-align: middle;\n",
       "    }\n",
       "\n",
       "    .dataframe tbody tr th {\n",
       "        vertical-align: top;\n",
       "    }\n",
       "\n",
       "    .dataframe thead th {\n",
       "        text-align: right;\n",
       "    }\n",
       "</style>\n",
       "<table border=\"1\" class=\"dataframe\">\n",
       "  <thead>\n",
       "    <tr style=\"text-align: right;\">\n",
       "      <th></th>\n",
       "      <th>ID</th>\n",
       "      <th>age</th>\n",
       "      <th>current_occupation</th>\n",
       "      <th>first_interaction</th>\n",
       "      <th>profile_completed</th>\n",
       "      <th>website_visits</th>\n",
       "      <th>time_spent_on_website</th>\n",
       "      <th>page_views_per_visit</th>\n",
       "      <th>last_activity</th>\n",
       "      <th>print_media_type1</th>\n",
       "      <th>print_media_type2</th>\n",
       "      <th>digital_media</th>\n",
       "      <th>educational_channels</th>\n",
       "      <th>referral</th>\n",
       "      <th>status</th>\n",
       "    </tr>\n",
       "  </thead>\n",
       "  <tbody>\n",
       "    <tr>\n",
       "      <th>0</th>\n",
       "      <td>EXT001</td>\n",
       "      <td>57</td>\n",
       "      <td>Unemployed</td>\n",
       "      <td>Website</td>\n",
       "      <td>High</td>\n",
       "      <td>7</td>\n",
       "      <td>1639</td>\n",
       "      <td>1.861</td>\n",
       "      <td>Website Activity</td>\n",
       "      <td>Yes</td>\n",
       "      <td>No</td>\n",
       "      <td>Yes</td>\n",
       "      <td>No</td>\n",
       "      <td>No</td>\n",
       "      <td>1</td>\n",
       "    </tr>\n",
       "    <tr>\n",
       "      <th>1</th>\n",
       "      <td>EXT002</td>\n",
       "      <td>56</td>\n",
       "      <td>Professional</td>\n",
       "      <td>Mobile App</td>\n",
       "      <td>Medium</td>\n",
       "      <td>2</td>\n",
       "      <td>83</td>\n",
       "      <td>0.320</td>\n",
       "      <td>Website Activity</td>\n",
       "      <td>No</td>\n",
       "      <td>No</td>\n",
       "      <td>No</td>\n",
       "      <td>Yes</td>\n",
       "      <td>No</td>\n",
       "      <td>0</td>\n",
       "    </tr>\n",
       "    <tr>\n",
       "      <th>2</th>\n",
       "      <td>EXT003</td>\n",
       "      <td>52</td>\n",
       "      <td>Professional</td>\n",
       "      <td>Website</td>\n",
       "      <td>Medium</td>\n",
       "      <td>3</td>\n",
       "      <td>330</td>\n",
       "      <td>0.074</td>\n",
       "      <td>Website Activity</td>\n",
       "      <td>No</td>\n",
       "      <td>No</td>\n",
       "      <td>Yes</td>\n",
       "      <td>No</td>\n",
       "      <td>No</td>\n",
       "      <td>0</td>\n",
       "    </tr>\n",
       "    <tr>\n",
       "      <th>3</th>\n",
       "      <td>EXT004</td>\n",
       "      <td>53</td>\n",
       "      <td>Unemployed</td>\n",
       "      <td>Website</td>\n",
       "      <td>High</td>\n",
       "      <td>4</td>\n",
       "      <td>464</td>\n",
       "      <td>2.057</td>\n",
       "      <td>Website Activity</td>\n",
       "      <td>No</td>\n",
       "      <td>No</td>\n",
       "      <td>No</td>\n",
       "      <td>No</td>\n",
       "      <td>No</td>\n",
       "      <td>1</td>\n",
       "    </tr>\n",
       "    <tr>\n",
       "      <th>4</th>\n",
       "      <td>EXT005</td>\n",
       "      <td>23</td>\n",
       "      <td>Student</td>\n",
       "      <td>Website</td>\n",
       "      <td>High</td>\n",
       "      <td>4</td>\n",
       "      <td>600</td>\n",
       "      <td>16.914</td>\n",
       "      <td>Email Activity</td>\n",
       "      <td>No</td>\n",
       "      <td>No</td>\n",
       "      <td>No</td>\n",
       "      <td>No</td>\n",
       "      <td>No</td>\n",
       "      <td>0</td>\n",
       "    </tr>\n",
       "  </tbody>\n",
       "</table>\n",
       "</div>"
      ],
      "text/plain": [
       "       ID  age current_occupation first_interaction profile_completed  \\\n",
       "0  EXT001   57         Unemployed           Website              High   \n",
       "1  EXT002   56       Professional        Mobile App            Medium   \n",
       "2  EXT003   52       Professional           Website            Medium   \n",
       "3  EXT004   53         Unemployed           Website              High   \n",
       "4  EXT005   23            Student           Website              High   \n",
       "\n",
       "   website_visits  time_spent_on_website  page_views_per_visit  \\\n",
       "0               7                   1639                 1.861   \n",
       "1               2                     83                 0.320   \n",
       "2               3                    330                 0.074   \n",
       "3               4                    464                 2.057   \n",
       "4               4                    600                16.914   \n",
       "\n",
       "      last_activity print_media_type1 print_media_type2 digital_media  \\\n",
       "0  Website Activity               Yes                No           Yes   \n",
       "1  Website Activity                No                No            No   \n",
       "2  Website Activity                No                No           Yes   \n",
       "3  Website Activity                No                No            No   \n",
       "4    Email Activity                No                No            No   \n",
       "\n",
       "  educational_channels referral  status  \n",
       "0                   No       No       1  \n",
       "1                  Yes       No       0  \n",
       "2                   No       No       0  \n",
       "3                   No       No       1  \n",
       "4                   No       No       0  "
      ]
     },
     "execution_count": 432,
     "metadata": {},
     "output_type": "execute_result"
    }
   ],
   "source": [
    "# Returns the first 5 rows\n",
    "df.head()"
   ]
  },
  {
   "cell_type": "code",
   "execution_count": 433,
   "id": "469beb4d-d2c8-4780-a206-5407250e0266",
   "metadata": {},
   "outputs": [
    {
     "data": {
      "text/html": [
       "<div>\n",
       "<style scoped>\n",
       "    .dataframe tbody tr th:only-of-type {\n",
       "        vertical-align: middle;\n",
       "    }\n",
       "\n",
       "    .dataframe tbody tr th {\n",
       "        vertical-align: top;\n",
       "    }\n",
       "\n",
       "    .dataframe thead th {\n",
       "        text-align: right;\n",
       "    }\n",
       "</style>\n",
       "<table border=\"1\" class=\"dataframe\">\n",
       "  <thead>\n",
       "    <tr style=\"text-align: right;\">\n",
       "      <th></th>\n",
       "      <th>ID</th>\n",
       "      <th>age</th>\n",
       "      <th>current_occupation</th>\n",
       "      <th>first_interaction</th>\n",
       "      <th>profile_completed</th>\n",
       "      <th>website_visits</th>\n",
       "      <th>time_spent_on_website</th>\n",
       "      <th>page_views_per_visit</th>\n",
       "      <th>last_activity</th>\n",
       "      <th>print_media_type1</th>\n",
       "      <th>print_media_type2</th>\n",
       "      <th>digital_media</th>\n",
       "      <th>educational_channels</th>\n",
       "      <th>referral</th>\n",
       "      <th>status</th>\n",
       "    </tr>\n",
       "  </thead>\n",
       "  <tbody>\n",
       "    <tr>\n",
       "      <th>4607</th>\n",
       "      <td>EXT4608</td>\n",
       "      <td>35</td>\n",
       "      <td>Unemployed</td>\n",
       "      <td>Mobile App</td>\n",
       "      <td>Medium</td>\n",
       "      <td>15</td>\n",
       "      <td>360</td>\n",
       "      <td>2.170</td>\n",
       "      <td>Phone Activity</td>\n",
       "      <td>No</td>\n",
       "      <td>No</td>\n",
       "      <td>No</td>\n",
       "      <td>Yes</td>\n",
       "      <td>No</td>\n",
       "      <td>0</td>\n",
       "    </tr>\n",
       "    <tr>\n",
       "      <th>4608</th>\n",
       "      <td>EXT4609</td>\n",
       "      <td>55</td>\n",
       "      <td>Professional</td>\n",
       "      <td>Mobile App</td>\n",
       "      <td>Medium</td>\n",
       "      <td>8</td>\n",
       "      <td>2327</td>\n",
       "      <td>5.393</td>\n",
       "      <td>Email Activity</td>\n",
       "      <td>No</td>\n",
       "      <td>No</td>\n",
       "      <td>No</td>\n",
       "      <td>No</td>\n",
       "      <td>No</td>\n",
       "      <td>0</td>\n",
       "    </tr>\n",
       "    <tr>\n",
       "      <th>4609</th>\n",
       "      <td>EXT4610</td>\n",
       "      <td>58</td>\n",
       "      <td>Professional</td>\n",
       "      <td>Website</td>\n",
       "      <td>High</td>\n",
       "      <td>2</td>\n",
       "      <td>212</td>\n",
       "      <td>2.692</td>\n",
       "      <td>Email Activity</td>\n",
       "      <td>No</td>\n",
       "      <td>No</td>\n",
       "      <td>No</td>\n",
       "      <td>No</td>\n",
       "      <td>No</td>\n",
       "      <td>1</td>\n",
       "    </tr>\n",
       "    <tr>\n",
       "      <th>4610</th>\n",
       "      <td>EXT4611</td>\n",
       "      <td>57</td>\n",
       "      <td>Professional</td>\n",
       "      <td>Mobile App</td>\n",
       "      <td>Medium</td>\n",
       "      <td>1</td>\n",
       "      <td>154</td>\n",
       "      <td>3.879</td>\n",
       "      <td>Website Activity</td>\n",
       "      <td>Yes</td>\n",
       "      <td>No</td>\n",
       "      <td>No</td>\n",
       "      <td>No</td>\n",
       "      <td>No</td>\n",
       "      <td>0</td>\n",
       "    </tr>\n",
       "    <tr>\n",
       "      <th>4611</th>\n",
       "      <td>EXT4612</td>\n",
       "      <td>55</td>\n",
       "      <td>Professional</td>\n",
       "      <td>Website</td>\n",
       "      <td>Medium</td>\n",
       "      <td>4</td>\n",
       "      <td>2290</td>\n",
       "      <td>2.075</td>\n",
       "      <td>Phone Activity</td>\n",
       "      <td>No</td>\n",
       "      <td>No</td>\n",
       "      <td>No</td>\n",
       "      <td>No</td>\n",
       "      <td>No</td>\n",
       "      <td>0</td>\n",
       "    </tr>\n",
       "  </tbody>\n",
       "</table>\n",
       "</div>"
      ],
      "text/plain": [
       "           ID  age current_occupation first_interaction profile_completed  \\\n",
       "4607  EXT4608   35         Unemployed        Mobile App            Medium   \n",
       "4608  EXT4609   55       Professional        Mobile App            Medium   \n",
       "4609  EXT4610   58       Professional           Website              High   \n",
       "4610  EXT4611   57       Professional        Mobile App            Medium   \n",
       "4611  EXT4612   55       Professional           Website            Medium   \n",
       "\n",
       "      website_visits  time_spent_on_website  page_views_per_visit  \\\n",
       "4607              15                    360                 2.170   \n",
       "4608               8                   2327                 5.393   \n",
       "4609               2                    212                 2.692   \n",
       "4610               1                    154                 3.879   \n",
       "4611               4                   2290                 2.075   \n",
       "\n",
       "         last_activity print_media_type1 print_media_type2 digital_media  \\\n",
       "4607    Phone Activity                No                No            No   \n",
       "4608    Email Activity                No                No            No   \n",
       "4609    Email Activity                No                No            No   \n",
       "4610  Website Activity               Yes                No            No   \n",
       "4611    Phone Activity                No                No            No   \n",
       "\n",
       "     educational_channels referral  status  \n",
       "4607                  Yes       No       0  \n",
       "4608                   No       No       0  \n",
       "4609                   No       No       1  \n",
       "4610                   No       No       0  \n",
       "4611                   No       No       0  "
      ]
     },
     "execution_count": 433,
     "metadata": {},
     "output_type": "execute_result"
    }
   ],
   "source": [
    "# Returns the last 5 rows\n",
    "df.tail()"
   ]
  },
  {
   "cell_type": "markdown",
   "id": "desperate-infection",
   "metadata": {
    "id": "desperate-infection"
   },
   "source": [
    "## Data Overview"
   ]
  },
  {
   "cell_type": "code",
   "execution_count": 434,
   "id": "persistent-juice",
   "metadata": {
    "id": "persistent-juice"
   },
   "outputs": [
    {
     "name": "stdout",
     "output_type": "stream",
     "text": [
      "(4612, 15)\n"
     ]
    }
   ],
   "source": [
    "# Calculate the number of rows and columns\n",
    "dimensions = df.shape\n",
    "# Print how many rows and columns are in the database\n",
    "print(dimensions)"
   ]
  },
  {
   "cell_type": "markdown",
   "id": "ef599c5b-1a77-472b-ae21-d769150b1fe9",
   "metadata": {},
   "source": [
    "<b>Observations:</b>\n",
    "- The number of rows in the database is 4612 and the number of columns is 15"
   ]
  },
  {
   "cell_type": "code",
   "execution_count": 435,
   "id": "88c55833-37e1-4aca-b5d0-f93c710bab29",
   "metadata": {},
   "outputs": [
    {
     "name": "stdout",
     "output_type": "stream",
     "text": [
      "<class 'pandas.core.frame.DataFrame'>\n",
      "RangeIndex: 4612 entries, 0 to 4611\n",
      "Data columns (total 15 columns):\n",
      " #   Column                 Non-Null Count  Dtype  \n",
      "---  ------                 --------------  -----  \n",
      " 0   ID                     4612 non-null   object \n",
      " 1   age                    4612 non-null   int64  \n",
      " 2   current_occupation     4612 non-null   object \n",
      " 3   first_interaction      4612 non-null   object \n",
      " 4   profile_completed      4612 non-null   object \n",
      " 5   website_visits         4612 non-null   int64  \n",
      " 6   time_spent_on_website  4612 non-null   int64  \n",
      " 7   page_views_per_visit   4612 non-null   float64\n",
      " 8   last_activity          4612 non-null   object \n",
      " 9   print_media_type1      4612 non-null   object \n",
      " 10  print_media_type2      4612 non-null   object \n",
      " 11  digital_media          4612 non-null   object \n",
      " 12  educational_channels   4612 non-null   object \n",
      " 13  referral               4612 non-null   object \n",
      " 14  status                 4612 non-null   int64  \n",
      "dtypes: float64(1), int64(4), object(10)\n",
      "memory usage: 540.6+ KB\n"
     ]
    }
   ],
   "source": [
    "# Use info() to print a concise summary of the DataFrame\n",
    "df.info()"
   ]
  },
  {
   "cell_type": "markdown",
   "id": "c4d14069-1596-4c15-a718-87dff4fa1d72",
   "metadata": {},
   "source": [
    "<b>Observations:</b>\n",
    "- There are 5 numerical columns (1 float, 4 integers)\n",
    "- There are 10 object type columns\n",
    "- All columns have the same number of entries"
   ]
  },
  {
   "cell_type": "code",
   "execution_count": 436,
   "id": "e87e76b5-10f4-4ed3-be33-e1baefddfca4",
   "metadata": {},
   "outputs": [
    {
     "data": {
      "text/plain": [
       "ID                       0\n",
       "age                      0\n",
       "current_occupation       0\n",
       "first_interaction        0\n",
       "profile_completed        0\n",
       "website_visits           0\n",
       "time_spent_on_website    0\n",
       "page_views_per_visit     0\n",
       "last_activity            0\n",
       "print_media_type1        0\n",
       "print_media_type2        0\n",
       "digital_media            0\n",
       "educational_channels     0\n",
       "referral                 0\n",
       "status                   0\n",
       "dtype: int64"
      ]
     },
     "execution_count": 436,
     "metadata": {},
     "output_type": "execute_result"
    }
   ],
   "source": [
    "# Add up any missing values in each column\n",
    "df.isnull().sum()"
   ]
  },
  {
   "cell_type": "markdown",
   "id": "a76f68e7-d5d7-494e-9171-7400aa1c8a6b",
   "metadata": {},
   "source": [
    "<b>Observations:</b>\n",
    "- No missing values identified"
   ]
  },
  {
   "cell_type": "code",
   "execution_count": 437,
   "id": "1dacfaa0-7fde-42dc-864a-c2e7fe6fd570",
   "metadata": {},
   "outputs": [
    {
     "data": {
      "text/plain": [
       "ID                       4612\n",
       "age                        46\n",
       "current_occupation          3\n",
       "first_interaction           2\n",
       "profile_completed           3\n",
       "website_visits             27\n",
       "time_spent_on_website    1623\n",
       "page_views_per_visit     2414\n",
       "last_activity               3\n",
       "print_media_type1           2\n",
       "print_media_type2           2\n",
       "digital_media               2\n",
       "educational_channels        2\n",
       "referral                    2\n",
       "status                      2\n",
       "dtype: int64"
      ]
     },
     "execution_count": 437,
     "metadata": {},
     "output_type": "execute_result"
    }
   ],
   "source": [
    "# Checking the count of unique values in each column\n",
    "df.nunique()"
   ]
  },
  {
   "cell_type": "markdown",
   "id": "2b1ee2be-bf40-46a2-8846-d40d270d6686",
   "metadata": {},
   "source": [
    "<b>Observations:</b>\n",
    "- All ID values are unique, this means having it as a separate column might be redundant\n",
    "- There exist 46 different age groups\n",
    "- Age, website_visits, time_spent_on_website, page_views_per_visit are all continuous variables\n",
    "- Current_occupation, first_interaction, profile_completed, last_activity, print_media_type1, print_media_type2, digital_media, educational_channels, referral, status are all categorical variables"
   ]
  },
  {
   "cell_type": "code",
   "execution_count": 438,
   "id": "71649fb2-8545-4fd5-b091-2b35efb8067d",
   "metadata": {},
   "outputs": [
    {
     "data": {
      "text/plain": [
       "0"
      ]
     },
     "execution_count": 438,
     "metadata": {},
     "output_type": "execute_result"
    }
   ],
   "source": [
    "# Checking for duplicates in the dataset\n",
    "df.duplicated().sum()"
   ]
  },
  {
   "cell_type": "markdown",
   "id": "88f98e07-0fd5-4d8e-8b3a-92ac2d01e1d7",
   "metadata": {},
   "source": [
    "<b>Observations:</b>\n",
    "- No duplicates found"
   ]
  },
  {
   "cell_type": "code",
   "execution_count": 439,
   "id": "5ce7108f-9d14-4d2e-a5eb-6991c74a8298",
   "metadata": {},
   "outputs": [],
   "source": [
    "# Drop ID column\n",
    "df.drop([\"ID\"], axis=1, inplace=True)"
   ]
  },
  {
   "cell_type": "markdown",
   "id": "6e1c6391-eae6-4d17-a8f9-a9a7211e5cd4",
   "metadata": {},
   "source": [
    "<b>Observations</b>\n",
    "- As mentioned above, we can drop the ID column as it is not necessary."
   ]
  },
  {
   "cell_type": "markdown",
   "id": "seasonal-calibration",
   "metadata": {
    "id": "seasonal-calibration"
   },
   "source": [
    "## Exploratory Data Analysis (EDA)"
   ]
  },
  {
   "cell_type": "code",
   "execution_count": 440,
   "id": "87690d8f",
   "metadata": {},
   "outputs": [
    {
     "data": {
      "text/html": [
       "<div>\n",
       "<style scoped>\n",
       "    .dataframe tbody tr th:only-of-type {\n",
       "        vertical-align: middle;\n",
       "    }\n",
       "\n",
       "    .dataframe tbody tr th {\n",
       "        vertical-align: top;\n",
       "    }\n",
       "\n",
       "    .dataframe thead th {\n",
       "        text-align: right;\n",
       "    }\n",
       "</style>\n",
       "<table border=\"1\" class=\"dataframe\">\n",
       "  <thead>\n",
       "    <tr style=\"text-align: right;\">\n",
       "      <th></th>\n",
       "      <th>count</th>\n",
       "      <th>mean</th>\n",
       "      <th>std</th>\n",
       "      <th>min</th>\n",
       "      <th>25%</th>\n",
       "      <th>50%</th>\n",
       "      <th>75%</th>\n",
       "      <th>max</th>\n",
       "    </tr>\n",
       "  </thead>\n",
       "  <tbody>\n",
       "    <tr>\n",
       "      <th>age</th>\n",
       "      <td>4612.0</td>\n",
       "      <td>46.201214</td>\n",
       "      <td>13.161454</td>\n",
       "      <td>18.0</td>\n",
       "      <td>36.00000</td>\n",
       "      <td>51.000</td>\n",
       "      <td>57.00000</td>\n",
       "      <td>63.000</td>\n",
       "    </tr>\n",
       "    <tr>\n",
       "      <th>website_visits</th>\n",
       "      <td>4612.0</td>\n",
       "      <td>3.566782</td>\n",
       "      <td>2.829134</td>\n",
       "      <td>0.0</td>\n",
       "      <td>2.00000</td>\n",
       "      <td>3.000</td>\n",
       "      <td>5.00000</td>\n",
       "      <td>30.000</td>\n",
       "    </tr>\n",
       "    <tr>\n",
       "      <th>time_spent_on_website</th>\n",
       "      <td>4612.0</td>\n",
       "      <td>724.011275</td>\n",
       "      <td>743.828683</td>\n",
       "      <td>0.0</td>\n",
       "      <td>148.75000</td>\n",
       "      <td>376.000</td>\n",
       "      <td>1336.75000</td>\n",
       "      <td>2537.000</td>\n",
       "    </tr>\n",
       "    <tr>\n",
       "      <th>page_views_per_visit</th>\n",
       "      <td>4612.0</td>\n",
       "      <td>3.026126</td>\n",
       "      <td>1.968125</td>\n",
       "      <td>0.0</td>\n",
       "      <td>2.07775</td>\n",
       "      <td>2.792</td>\n",
       "      <td>3.75625</td>\n",
       "      <td>18.434</td>\n",
       "    </tr>\n",
       "    <tr>\n",
       "      <th>status</th>\n",
       "      <td>4612.0</td>\n",
       "      <td>0.298569</td>\n",
       "      <td>0.457680</td>\n",
       "      <td>0.0</td>\n",
       "      <td>0.00000</td>\n",
       "      <td>0.000</td>\n",
       "      <td>1.00000</td>\n",
       "      <td>1.000</td>\n",
       "    </tr>\n",
       "  </tbody>\n",
       "</table>\n",
       "</div>"
      ],
      "text/plain": [
       "                        count        mean         std   min        25%  \\\n",
       "age                    4612.0   46.201214   13.161454  18.0   36.00000   \n",
       "website_visits         4612.0    3.566782    2.829134   0.0    2.00000   \n",
       "time_spent_on_website  4612.0  724.011275  743.828683   0.0  148.75000   \n",
       "page_views_per_visit   4612.0    3.026126    1.968125   0.0    2.07775   \n",
       "status                 4612.0    0.298569    0.457680   0.0    0.00000   \n",
       "\n",
       "                           50%         75%       max  \n",
       "age                     51.000    57.00000    63.000  \n",
       "website_visits           3.000     5.00000    30.000  \n",
       "time_spent_on_website  376.000  1336.75000  2537.000  \n",
       "page_views_per_visit     2.792     3.75625    18.434  \n",
       "status                   0.000     1.00000     1.000  "
      ]
     },
     "execution_count": 440,
     "metadata": {},
     "output_type": "execute_result"
    }
   ],
   "source": [
    "# Statistical summary of the data\n",
    "df.describe().T"
   ]
  },
  {
   "cell_type": "markdown",
   "id": "347d80df-040e-4ca7-a9ff-1e1a98c2b79a",
   "metadata": {},
   "source": [
    "<b>Observations:</b>\n",
    "- Status mean (average) is 0.29857, which is less than 0.5, which indicates that more leads are not paid customers compared to paid customers, since paid = 1, not paid = 0.\n",
    "- Age range of leads is 18-63, so it does not include underage people and seniors.\n",
    "- Average (mean) website visits per lead is 3.56678 which is almost the same as the mode of 3.00000. Since the mean is higher than the mode, this indicates that there is a slight right skew distribution.\n",
    "- The average time spent on the website (724.01127s) is significantly higher than the most common time spent on the website (376.00000s), therefore there is a clear right skew distribution.\n"
   ]
  },
  {
   "cell_type": "code",
   "execution_count": 441,
   "id": "003ed6ec-f26c-49f4-b16f-29ca2a155a88",
   "metadata": {},
   "outputs": [
    {
     "name": "stdout",
     "output_type": "stream",
     "text": [
      "Professional    0.567216\n",
      "Unemployed      0.312446\n",
      "Student         0.120338\n",
      "Name: current_occupation, dtype: float64\n",
      "--------------------------------------------------\n",
      "Website       0.551171\n",
      "Mobile App    0.448829\n",
      "Name: first_interaction, dtype: float64\n",
      "--------------------------------------------------\n",
      "High      0.490893\n",
      "Medium    0.485906\n",
      "Low       0.023200\n",
      "Name: profile_completed, dtype: float64\n",
      "--------------------------------------------------\n",
      "Email Activity      0.493929\n",
      "Phone Activity      0.267563\n",
      "Website Activity    0.238508\n",
      "Name: last_activity, dtype: float64\n",
      "--------------------------------------------------\n",
      "No     0.892238\n",
      "Yes    0.107762\n",
      "Name: print_media_type1, dtype: float64\n",
      "--------------------------------------------------\n",
      "No     0.94948\n",
      "Yes    0.05052\n",
      "Name: print_media_type2, dtype: float64\n",
      "--------------------------------------------------\n",
      "No     0.885733\n",
      "Yes    0.114267\n",
      "Name: digital_media, dtype: float64\n",
      "--------------------------------------------------\n",
      "No     0.847138\n",
      "Yes    0.152862\n",
      "Name: educational_channels, dtype: float64\n",
      "--------------------------------------------------\n",
      "No     0.979835\n",
      "Yes    0.020165\n",
      "Name: referral, dtype: float64\n",
      "--------------------------------------------------\n"
     ]
    }
   ],
   "source": [
    "# List of categorical variables\n",
    "cat_col = list(df.select_dtypes(\"object\").columns)\n",
    "\n",
    "# Value proportions in every column\n",
    "for column in cat_col:\n",
    "    # Using 1 to normalize the proportion\n",
    "    print(df[column].value_counts(1))\n",
    "    print(\"-\" * 50)"
   ]
  },
  {
   "cell_type": "markdown",
   "id": "5a0761cf-df93-4aa9-b077-b937b8b9226e",
   "metadata": {},
   "source": [
    "<b>Observations:</b>\n",
    "- Over half (57%) of leads are Professionals, a third (31%) are unemployed and the rest are students.\n",
    "- First interactions are split almost evenly with slightly more people finding ExtraaLearn through a website (55%) than the mobile app (45%).\n",
    "- Most people have highly finished (49%) profiles or medium (49%), and only a small percentage (2%) of leads have low-filled profiles.\n",
    "- Half of all recent activities were emails between leads and ExtraaLearn (49%), the phone activities followed with just over a quarter (27%) and the lowest activity was on the website (24%).\n",
    "- Most leads, over 4/5 or 89% had not seen ExtraaLearn advertisements in Newspapers and the rest had.\n",
    "- Almost all leads, 95% had not seen ExtraaLearn advertisements in Magazines and the rest had.\n",
    "- Most leads, over 4/5 or 89% had seen ExtraaLearn advertisements on digital platforms and the rest had not.\n",
    "- Most people (85%) had not heard of ExtraaLearn in the education channels, and some (15%) had.\n",
    "- Barely any leads, only 2%, had heard about ExtraaLearn through a reference."
   ]
  },
  {
   "cell_type": "markdown",
   "id": "2ba4e76b-c610-47a1-9f41-13109708094d",
   "metadata": {},
   "source": [
    "<b>Univariate Analysis</b>"
   ]
  },
  {
   "cell_type": "code",
   "execution_count": 442,
   "id": "232f381f-6b05-4081-937b-abfa4a45ab26",
   "metadata": {},
   "outputs": [
    {
     "data": {
      "image/png": "[encoded data removed]",
      "text/plain": [
       "<Figure size 432x288 with 1 Axes>"
      ]
     },
     "metadata": {
      "needs_background": "light"
     },
     "output_type": "display_data"
    }
   ],
   "source": [
    "# Count plot: current occupations of people\n",
    "sns.countplot(x = df['current_occupation'])\n",
    "# Label axes\n",
    "plt.xlabel(\"Current occupation\")\n",
    "plt.ylabel(\"Number of people\")\n",
    "plt.show()"
   ]
  },
  {
   "cell_type": "markdown",
   "id": "86d397da-8645-46a4-9d36-2ca411aba47e",
   "metadata": {},
   "source": [
    "<b>Observations:</b>\n",
    "- Over 2500 leads are Professionals, just a bit under 1500 are unemployed and the 500 are students.\n",
    "- The number of professionals is higher than the unemployed and students combined."
   ]
  },
  {
   "cell_type": "code",
   "execution_count": 443,
   "id": "6ff4e29b-5cc5-42a9-899c-390a1b7bbd6c",
   "metadata": {},
   "outputs": [
    {
     "data": {
      "image/png": "[encoded data removed]",
      "text/plain": [
       "<Figure size 720x360 with 1 Axes>"
      ]
     },
     "metadata": {
      "needs_background": "light"
     },
     "output_type": "display_data"
    }
   ],
   "source": [
    "# Increase plot size\n",
    "plt.figure(figsize=(10, 5))\n",
    "# Count plot: ages of people\n",
    "sns.countplot(x = df['age'])\n",
    "# Rotate x labels to avoid overlay\n",
    "plt.xticks(rotation=90)\n",
    "# Label axes\n",
    "plt.xlabel(\"Age\")\n",
    "plt.ylabel(\"Number of people\")\n",
    "plt.show()"
   ]
  },
  {
   "cell_type": "markdown",
   "id": "4ee81c98-6f33-4967-92a6-a9d078c44681",
   "metadata": {},
   "source": [
    "<b>Observations:</b>\n",
    "- The plot shows the number of people for each age group.\n",
    "- Most people are between 56 and 59 years of age, followed by 55 and 60 year olds.\n",
    "- There is a spike for the age group of 32."
   ]
  },
  {
   "cell_type": "code",
   "execution_count": 444,
   "id": "d14ab896-ac5e-43de-b3e6-b065a4e52b34",
   "metadata": {},
   "outputs": [
    {
     "data": {
      "image/png": "[encoded data removed]",
      "text/plain": [
       "<Figure size 432x288 with 1 Axes>"
      ]
     },
     "metadata": {
      "needs_background": "light"
     },
     "output_type": "display_data"
    }
   ],
   "source": [
    "# Count plot: First interactions with the platform\n",
    "sns.countplot(x = df['first_interaction'])\n",
    "# Label axes\n",
    "plt.xlabel(\"First interaction\")\n",
    "plt.ylabel(\"Number of people\")\n",
    "plt.show()"
   ]
  },
  {
   "cell_type": "markdown",
   "id": "62013fc1-7765-4460-a922-3929ffdb2996",
   "metadata": {},
   "source": [
    "<b>Observations:</b>\n",
    "- The plot shows how many people first interacted with the platform through a website or mobile app.\n",
    "- 2500 had their first interaction through a website, and 200 - through a mobile app. That is 500 people less."
   ]
  },
  {
   "cell_type": "code",
   "execution_count": 445,
   "id": "340b2759-3363-4e91-b172-49711fa91077",
   "metadata": {},
   "outputs": [
    {
     "data": {
      "image/png": "[encoded data removed]",
      "text/plain": [
       "<Figure size 432x288 with 1 Axes>"
      ]
     },
     "metadata": {
      "needs_background": "light"
     },
     "output_type": "display_data"
    }
   ],
   "source": [
    "# Count plot: Completion of the profile\n",
    "sns.countplot(x = df['profile_completed'])\n",
    "# Label axes\n",
    "plt.xlabel(\"Profile completion\")\n",
    "plt.ylabel(\"Number of people\")\n",
    "plt.show()"
   ]
  },
  {
   "cell_type": "markdown",
   "id": "a2be0247-8285-4dc9-891a-f12ac2efdc62",
   "metadata": {},
   "source": [
    "<b>Observations:</b>\n",
    "- About 2200 people have a high completion of profile and about 2150 have a medium, only 200 people have a low completion of profile.\n",
    "- This means that most people have their profiles almost set up completely."
   ]
  },
  {
   "cell_type": "code",
   "execution_count": 446,
   "id": "e0ffe420-b7eb-4420-8a01-5506daf55a8f",
   "metadata": {},
   "outputs": [
    {
     "data": {
      "image/png": "[encoded data removed]",
      "text/plain": [
       "<Figure size 720x360 with 1 Axes>"
      ]
     },
     "metadata": {
      "needs_background": "light"
     },
     "output_type": "display_data"
    }
   ],
   "source": [
    "# Increase plot size\n",
    "plt.figure(figsize=(10, 5))\n",
    "# Count plot: Website visits\n",
    "sns.countplot(x = df['website_visits'])\n",
    "# Label axes\n",
    "plt.xlabel(\"Website visits\")\n",
    "plt.ylabel(\"Number of people\")\n",
    "plt.show()"
   ]
  },
  {
   "cell_type": "markdown",
   "id": "c9be76c3-a5b3-499f-9663-851bddbbb003",
   "metadata": {},
   "source": [
    "<b>Observations:</b>\n",
    "- The highest number of people (1250) visit the website 2 times, followed by once by 750 people, then three times by 610 people and then a gradually decreasing number of people as the number of website visits increases."
   ]
  },
  {
   "cell_type": "code",
   "execution_count": 447,
   "id": "ed6cb824-6bb7-4bd0-94fd-8e5d8d34cc79",
   "metadata": {},
   "outputs": [
    {
     "data": {
      "image/png": "[encoded data removed]",
      "text/plain": [
       "<Figure size 432x288 with 1 Axes>"
      ]
     },
     "metadata": {
      "needs_background": "light"
     },
     "output_type": "display_data"
    }
   ],
   "source": [
    "# Histogram: Time spent on the website\n",
    "sns.histplot(x = df['time_spent_on_website'], kde=True)\n",
    "# Label axes\n",
    "plt.xlabel(\"Total time (seconds)\")\n",
    "plt.ylabel(\"Number of people\")\n",
    "plt.show()"
   ]
  },
  {
   "cell_type": "markdown",
   "id": "487fc0da-be53-4526-b2d6-5c34d6eedb77",
   "metadata": {},
   "source": [
    "<b>Observations:</b>\n",
    "- Since the time is a continuous x variable, we use a histogram to visualise the distribution of it.\n",
    "- By using Kernel density estimation, we see that data is positively skewed."
   ]
  },
  {
   "cell_type": "code",
   "execution_count": 448,
   "id": "103f0384-5fe9-4dab-a266-7b8358e6763a",
   "metadata": {},
   "outputs": [
    {
     "data": {
      "image/png": "[encoded data removed]",
      "text/plain": [
       "<Figure size 432x288 with 1 Axes>"
      ]
     },
     "metadata": {
      "needs_background": "light"
     },
     "output_type": "display_data"
    }
   ],
   "source": [
    "# Box plot: Average number of page visits\n",
    "sns.boxplot(x = df['page_views_per_visit'])\n",
    "# Label axes\n",
    "plt.xlabel(\"Average number of page visits\")\n",
    "plt.show()"
   ]
  },
  {
   "cell_type": "markdown",
   "id": "9afab965-8cac-44d5-abcc-78032a8af0bf",
   "metadata": {},
   "source": [
    "<b>Observations:</b>\n",
    "- The median is about 3 pages.\n",
    "- The interquartile range is between 0 and 7 pages.\n",
    "- There are a lot of outliers on the right which indicates a right skewed distribution."
   ]
  },
  {
   "cell_type": "code",
   "execution_count": 449,
   "id": "50693015-99b9-48c6-a14e-889c242d95c7",
   "metadata": {},
   "outputs": [
    {
     "data": {
      "image/png": "[encoded data removed]",
      "text/plain": [
       "<Figure size 432x288 with 1 Axes>"
      ]
     },
     "metadata": {
      "needs_background": "light"
     },
     "output_type": "display_data"
    }
   ],
   "source": [
    "# Count plot: Last activity\n",
    "sns.countplot(x = df['last_activity'])\n",
    "# Label axes\n",
    "plt.xlabel(\"Last activity\")\n",
    "plt.ylabel(\"Number of people\")\n",
    "plt.show()"
   ]
  },
  {
   "cell_type": "markdown",
   "id": "928fd340-8286-471f-ba93-ce45c26ab32f",
   "metadata": {},
   "source": [
    "<b>Observations</b>\n",
    "- Half of all recent activities were emails between leads and ExtraaLearn (2250 people), the phone activities followed with just over a quarter (1200 people) and the lowest activity was on the website (1100 people)."
   ]
  },
  {
   "cell_type": "code",
   "execution_count": 450,
   "id": "44676288-2d6c-45c0-b137-ee882df5b194",
   "metadata": {},
   "outputs": [
    {
     "data": {
      "image/png": "[encoded data removed]",
      "text/plain": [
       "<Figure size 432x288 with 1 Axes>"
      ]
     },
     "metadata": {
      "needs_background": "light"
     },
     "output_type": "display_data"
    }
   ],
   "source": [
    "# Count plot: Newspaper ad\n",
    "sns.countplot(x = df['print_media_type1'])\n",
    "# Label axes\n",
    "plt.xlabel(\"Seen newspaper ad?\")\n",
    "plt.ylabel(\"Number of people\")\n",
    "plt.show()"
   ]
  },
  {
   "cell_type": "markdown",
   "id": "2450242b-2406-48e8-af82-6b87a389a574",
   "metadata": {},
   "source": [
    "<b>Observations:</b>\n",
    "- Most people, over 4000, have not seen ExtraaLearn in a Newspaper ad."
   ]
  },
  {
   "cell_type": "code",
   "execution_count": 451,
   "id": "1d11572f-a713-4f6d-8135-b6ce46ec6463",
   "metadata": {},
   "outputs": [
    {
     "data": {
      "image/png": "[encoded data removed]",
      "text/plain": [
       "<Figure size 432x288 with 1 Axes>"
      ]
     },
     "metadata": {
      "needs_background": "light"
     },
     "output_type": "display_data"
    }
   ],
   "source": [
    "# Count plot: Magazine ad\n",
    "sns.countplot(x = df['print_media_type2'])\n",
    "# Label axes\n",
    "plt.xlabel(\"Seen magazine ad?\")\n",
    "plt.ylabel(\"Number of people\")\n",
    "plt.show()"
   ]
  },
  {
   "cell_type": "markdown",
   "id": "e71897aa-363a-4fb9-970e-0d5c6adf125d",
   "metadata": {},
   "source": [
    "<b>Observations:</b>\n",
    "- Most people, about 4500, have not seen ExtraaLearn in a Magazine ad."
   ]
  },
  {
   "cell_type": "code",
   "execution_count": 452,
   "id": "bed2e062-fdd5-4d43-b816-be592c523eb5",
   "metadata": {},
   "outputs": [
    {
     "data": {
      "image/png": "[encoded data removed]",
      "text/plain": [
       "<Figure size 432x288 with 1 Axes>"
      ]
     },
     "metadata": {
      "needs_background": "light"
     },
     "output_type": "display_data"
    }
   ],
   "source": [
    "# Count plot: Digital platforms ad\n",
    "sns.countplot(x = df['digital_media'])\n",
    "# Label axes\n",
    "plt.xlabel(\"Seen digital platforms ad?\")\n",
    "plt.ylabel(\"Number of people\")\n",
    "plt.show()"
   ]
  },
  {
   "cell_type": "markdown",
   "id": "04247c47-9798-43d0-b5ec-ec336fd77132",
   "metadata": {},
   "source": [
    "<b>Observations:</b>\n",
    "- Most people, about 4000, have not seen ExtraaLearn in a digital platforms ad."
   ]
  },
  {
   "cell_type": "code",
   "execution_count": 453,
   "id": "026037e3-b695-4959-b08e-4d1592579b8e",
   "metadata": {},
   "outputs": [
    {
     "data": {
      "image/png": "[encoded data removed]",
      "text/plain": [
       "<Figure size 432x288 with 1 Axes>"
      ]
     },
     "metadata": {
      "needs_background": "light"
     },
     "output_type": "display_data"
    }
   ],
   "source": [
    "# Count plot: Education channels reach\n",
    "sns.countplot(x = df['educational_channels'])\n",
    "# Label axes\n",
    "plt.xlabel(\"Heard about ExtraaLearn on education channels?\")\n",
    "plt.ylabel(\"Number of people\")\n",
    "plt.show()"
   ]
  },
  {
   "cell_type": "markdown",
   "id": "6a8b1309-1388-46ad-9fa2-d0bce2304b12",
   "metadata": {},
   "source": [
    "<b>Observations:</b>\n",
    "- Most people, about 3900, have not heard of ExtraaLearn through educational channels."
   ]
  },
  {
   "cell_type": "code",
   "execution_count": 454,
   "id": "d4b3f835-e0e1-4841-92a3-de3a90ca7b69",
   "metadata": {},
   "outputs": [
    {
     "data": {
      "image/png": "[encoded data removed]",
      "text/plain": [
       "<Figure size 432x288 with 1 Axes>"
      ]
     },
     "metadata": {
      "needs_background": "light"
     },
     "output_type": "display_data"
    }
   ],
   "source": [
    "# Count plot: Referral reach\n",
    "sns.countplot(x = df['referral'])\n",
    "# Label axes\n",
    "plt.xlabel(\"Heard about ExtraaLearn through referral?\")\n",
    "plt.ylabel(\"Number of people\")\n",
    "plt.show()"
   ]
  },
  {
   "cell_type": "markdown",
   "id": "2ee063fb-a07e-45c3-860d-0b6457510e0e",
   "metadata": {},
   "source": [
    "<b>Observations:</b>\n",
    "- Most people, about 4500, have not heard of ExtraaLearn through a referral."
   ]
  },
  {
   "cell_type": "code",
   "execution_count": 455,
   "id": "af398ca2-9304-418a-892e-17748e0fc336",
   "metadata": {},
   "outputs": [
    {
     "data": {
      "image/png": "[encoded data removed]",
      "text/plain": [
       "<Figure size 432x288 with 1 Axes>"
      ]
     },
     "metadata": {
      "needs_background": "light"
     },
     "output_type": "display_data"
    }
   ],
   "source": [
    "# Count plot: Status count\n",
    "sns.countplot(x = df['status'])\n",
    "# Label axes\n",
    "plt.xlabel(\"Status\")\n",
    "plt.ylabel(\"Number of people\")\n",
    "plt.show()"
   ]
  },
  {
   "cell_type": "markdown",
   "id": "f8cd2058-602a-40ab-a1d6-9e492f6a2366",
   "metadata": {},
   "source": [
    "<b>Observations:</b>\n",
    "- 3200 are unpaid customers and 1400 are paid customers.\n",
    "- About 2/3 of all people are unpaid customers."
   ]
  },
  {
   "cell_type": "markdown",
   "id": "7d5e8f03-26a9-4e23-b074-a930ea0aea1b",
   "metadata": {},
   "source": [
    "<b>Bivariate analysis</b>"
   ]
  },
  {
   "cell_type": "code",
   "execution_count": 456,
   "id": "5a7585b6-c293-47cc-95ed-efb3d8aad709",
   "metadata": {},
   "outputs": [
    {
     "data": {
      "image/png": "[encoded data removed]",
      "text/plain": [
       "<Figure size 432x288 with 2 Axes>"
      ]
     },
     "metadata": {
      "needs_background": "light"
     },
     "output_type": "display_data"
    }
   ],
   "source": [
    "# Heatmap: Comparing numerical values\n",
    "sns.heatmap(data = df[[\"age\", \"website_visits\", \"time_spent_on_website\", \"page_views_per_visit\", \"status\"]].corr(), annot=True, cmap='YlGnBu', vmin=-1, vmax=1)\n",
    "plt.show()"
   ]
  },
  {
   "cell_type": "markdown",
   "id": "964d5cc4-9d18-4b21-a035-ab3853c90965",
   "metadata": {},
   "source": [
    "<b>Observations:</b>\n",
    "- There is a slight positive correlation between the time spent on the website and a person's status. This means that it is likely that people who spend more time on the website convert to paying customers.\n",
    "- There are no other strong correlations between numerical variables."
   ]
  },
  {
   "cell_type": "code",
   "execution_count": 457,
   "id": "9a707bf7-5933-437e-8f20-90f5dccbd71a",
   "metadata": {},
   "outputs": [
    {
     "data": {
      "image/png": "[encoded data removed]",
      "text/plain": [
       "<Figure size 432x288 with 1 Axes>"
      ]
     },
     "metadata": {
      "needs_background": "light"
     },
     "output_type": "display_data"
    }
   ],
   "source": [
    "# Stacked bar plot: Count the number of paying/not paying leads in different occupations\n",
    "tab = pd.crosstab(df['current_occupation'], df['status'])\n",
    "tab.plot(kind='bar', stacked=True)\n",
    "\n",
    "# Label axes\n",
    "plt.xlabel('Current Occupation')\n",
    "plt.ylabel('Number of people')\n",
    "plt.show()"
   ]
  },
  {
   "cell_type": "markdown",
   "id": "33666bcd-004a-4bd5-abe4-4c6e9bb8dd5b",
   "metadata": {},
   "source": [
    "<b>Observations</b>\n",
    "- Most paying customers are professionals, almost 1000.\n",
    "- The lowest number of paying customers per occupation is students, around 100. This might be because typically students do not make as much income as professionals.\n",
    "- The number of paying customers for unemployed people is higher than students, about 400 people. This might indicate that unemployed people are trying to learn new skills or improve current ones by using ExtraaLearn in hopes of getting employed in the future."
   ]
  },
  {
   "cell_type": "code",
   "execution_count": 458,
   "id": "aba331cf-af3c-46ae-90be-a1b79dee8556",
   "metadata": {},
   "outputs": [
    {
     "data": {
      "image/png": "[encoded data removed]",
      "text/plain": [
       "<Figure size 432x288 with 1 Axes>"
      ]
     },
     "metadata": {
      "needs_background": "light"
     },
     "output_type": "display_data"
    }
   ],
   "source": [
    "# Stacked bar plot: First channels of interaction impact on the lead status\n",
    "tab = pd.crosstab(df['first_interaction'], df['status'])\n",
    "tab.plot(kind='bar', stacked=True)\n",
    "\n",
    "# Label axes\n",
    "plt.xlabel('First interaction')\n",
    "plt.ylabel('Number of people')\n",
    "plt.show()"
   ]
  },
  {
   "cell_type": "markdown",
   "id": "2a25baaa-e781-4fa2-bbd2-96eae49eb8ea",
   "metadata": {},
   "source": [
    "<b>Observations:</b>\n",
    "- More people are paid customers if their first interaction is through a website.\n",
    "- 500 more people first interacted with ExtraaLearn through a website instead of a mobile app."
   ]
  },
  {
   "cell_type": "code",
   "execution_count": 459,
   "id": "7891191b-c6db-4f0b-9cf2-f229238a8c9f",
   "metadata": {},
   "outputs": [
    {
     "data": {
      "image/png": "[encoded data removed]",
      "text/plain": [
       "<Figure size 432x288 with 1 Axes>"
      ]
     },
     "metadata": {
      "needs_background": "light"
     },
     "output_type": "display_data"
    }
   ],
   "source": [
    "# Bar plot: Time spent on website and status influence\n",
    "sns.barplot(x=df['status'], y=df['time_spent_on_website'])\n",
    "\n",
    "# Label axes\n",
    "plt.xlabel('Status')\n",
    "plt.ylabel('Time in seconds')\n",
    "plt.show()"
   ]
  },
  {
   "cell_type": "markdown",
   "id": "90bd538c-a586-4f5d-accf-d478d2fc9569",
   "metadata": {},
   "source": [
    "<b>Observations:</b>\n",
    "- People who spend more time (over 1000s) on the website, become paying customers compared to the ones who do not spend as much time on it (under 600s)."
   ]
  },
  {
   "cell_type": "code",
   "execution_count": 460,
   "id": "d5ec0e51-bf95-4219-8396-589b2360a9a9",
   "metadata": {},
   "outputs": [
    {
     "data": {
      "image/png": "[encoded data removed]",
      "text/plain": [
       "<Figure size 432x288 with 1 Axes>"
      ]
     },
     "metadata": {
      "needs_background": "light"
     },
     "output_type": "display_data"
    }
   ],
   "source": [
    "# Only show how many people saw an ad in a newspaper\n",
    "# Excluded people who did not see an ad in a newspaper as it is not relevant.\n",
    "filter = df[df['print_media_type1'] == 'Yes']\n",
    "# Stacked bar plot: How many people who interacted with this channel are paid customers\n",
    "tab = pd.crosstab(filter['print_media_type1'], df['status'])\n",
    "tab.plot(kind='bar', stacked=True)\n",
    "\n",
    "# Label axes\n",
    "plt.xlabel('Ad in a newspaper?')\n",
    "plt.ylabel('Number of people')\n",
    "plt.show()"
   ]
  },
  {
   "cell_type": "markdown",
   "id": "0ac3395f-cf60-49f0-865c-23f2908f743d",
   "metadata": {},
   "source": [
    "<b>Observations:</b>\n",
    "- 500 people have seen an ad in a newspaper.\n",
    "- Out of those 500 people, about 150 are paying customers."
   ]
  },
  {
   "cell_type": "code",
   "execution_count": 461,
   "id": "64b0e20a-68be-4280-9af8-7941bf56dcef",
   "metadata": {},
   "outputs": [
    {
     "data": {
      "image/png": "[encoded data removed]",
      "text/plain": [
       "<Figure size 432x288 with 1 Axes>"
      ]
     },
     "metadata": {
      "needs_background": "light"
     },
     "output_type": "display_data"
    }
   ],
   "source": [
    "# Only show how many people saw an ad in a magazine\n",
    "# Excluded people who did not see an ad in a magazine as it is not relevant\n",
    "filter = df[df['print_media_type2'] == 'Yes']\n",
    "# Stacked bar plot: How many people who interacted with this channel are paid customers\n",
    "tab = pd.crosstab(filter['print_media_type2'], df['status'])\n",
    "tab.plot(kind='bar', stacked=True)\n",
    "\n",
    "# Label axes\n",
    "plt.xlabel('Ad in a magazine?')\n",
    "plt.ylabel('Number of people')\n",
    "plt.show()"
   ]
  },
  {
   "cell_type": "markdown",
   "id": "09b10b20-80fe-40d3-ae0f-2dd768e20376",
   "metadata": {},
   "source": [
    "<b>Observations:</b>\n",
    "- 240 people have seen an ad in a magazine.\n",
    "- Out of those 240 people, about 150 are paying customers.\n",
    "- People saw ads in magazines two times less than in newspapers."
   ]
  },
  {
   "cell_type": "code",
   "execution_count": 462,
   "id": "48375b66-4c89-4b72-8ae8-5643c0e0367e",
   "metadata": {},
   "outputs": [
    {
     "data": {
      "image/png": "[encoded data removed]",
      "text/plain": [
       "<Figure size 432x288 with 1 Axes>"
      ]
     },
     "metadata": {
      "needs_background": "light"
     },
     "output_type": "display_data"
    }
   ],
   "source": [
    "# Only show how many people saw an ad in digital media\n",
    "# Excluded people who did not see an ad in digital media as it is not relevant\n",
    "filter = df[df['digital_media'] == 'Yes']\n",
    "# Stacked bar plot: How many people who interacted with this channel are paid customers\n",
    "tab = pd.crosstab(filter['digital_media'], df['status'])\n",
    "tab.plot(kind='bar', stacked=True)\n",
    "\n",
    "# Label axes\n",
    "plt.xlabel('Ad in digital media?')\n",
    "plt.ylabel('Number of people')\n",
    "plt.show()"
   ]
  },
  {
   "cell_type": "markdown",
   "id": "5534b08b-235b-459b-85a1-db00a4583145",
   "metadata": {},
   "source": [
    "<b>Observations:</b>\n",
    "- 520 people have seen an ad in a magazine.\n",
    "- Out of those 520 people, about 190 are paying customers.\n",
    "- People saw ads in digital media two times more than in magazines and slightly more than in newspapers."
   ]
  },
  {
   "cell_type": "code",
   "execution_count": 463,
   "id": "9a8afe40-fc2a-4118-8fd1-bde94873ef10",
   "metadata": {},
   "outputs": [
    {
     "data": {
      "image/png": "[encoded data removed]",
      "text/plain": [
       "<Figure size 432x288 with 1 Axes>"
      ]
     },
     "metadata": {
      "needs_background": "light"
     },
     "output_type": "display_data"
    }
   ],
   "source": [
    "# Only show how many people saw an ad in digital media\n",
    "# Excluded people who did not see an ad in digital media as it is not relevant\n",
    "filter = df[df['educational_channels'] == 'Yes']\n",
    "# Stacked bar plot: How many people who interacted with this channel are paid customers\n",
    "tab = pd.crosstab(filter['educational_channels'], df['status'])\n",
    "tab.plot(kind='bar', stacked=True)\n",
    "\n",
    "# Label axes\n",
    "plt.xlabel('Ad on educational channels?')\n",
    "plt.ylabel('Number of people')\n",
    "plt.show()"
   ]
  },
  {
   "cell_type": "markdown",
   "id": "f329fb5c-0201-4ccf-8a8b-bb80d872d02d",
   "metadata": {},
   "source": [
    "<b>Observations:</b>\n",
    "- 700 people have seen an ad on educational channels.\n",
    "- Out of those 700 people, about 200 are paying customers.\n",
    "- More people saw ads on educational channels than any other channel."
   ]
  },
  {
   "cell_type": "code",
   "execution_count": 464,
   "id": "d2bab48a-d290-428d-8420-a24ecbfbe81a",
   "metadata": {},
   "outputs": [
    {
     "data": {
      "image/png": "[encoded data removed]",
      "text/plain": [
       "<Figure size 432x288 with 1 Axes>"
      ]
     },
     "metadata": {
      "needs_background": "light"
     },
     "output_type": "display_data"
    }
   ],
   "source": [
    "# Only show how many people saw an ad in digital media\n",
    "# Excluded people who did not see an ad in digital media as it is not relevant\n",
    "filter = df[df['referral'] == 'Yes']\n",
    "# Stacked bar plot: How many people who interacted with this channel are paid customers\n",
    "tab = pd.crosstab(filter['referral'], df['status'])\n",
    "tab.plot(kind='bar', stacked=True)\n",
    "\n",
    "# Label axes\n",
    "plt.xlabel('Ad from referral?')\n",
    "plt.ylabel('Number of people')\n",
    "plt.show()"
   ]
  },
  {
   "cell_type": "markdown",
   "id": "70516815-27b8-4752-bc03-3e59f406759c",
   "metadata": {},
   "source": [
    "<b>Observations:</b>\n",
    "- Only 90 people have heard about ExtraaLearn from referrals.\n",
    "- Out of those 90 people, about 60 are paying customers.\n",
    "- 2/3 of people who heard about ExtraaLearn from referrals, are paying customers."
   ]
  },
  {
   "cell_type": "code",
   "execution_count": 465,
   "id": "f1cba0c5-27c7-4123-a4b6-4127c6f76bef",
   "metadata": {},
   "outputs": [
    {
     "data": {
      "image/png": "[encoded data removed]",
      "text/plain": [
       "<Figure size 432x288 with 1 Axes>"
      ]
     },
     "metadata": {
      "needs_background": "light"
     },
     "output_type": "display_data"
    }
   ],
   "source": [
    "# Stacked bar plot: How many people are paying customers based on last activity\n",
    "tab = pd.crosstab(df['last_activity'], df['status'])\n",
    "tab.plot(kind='bar', stacked=True)\n",
    "\n",
    "# Label axes\n",
    "plt.xlabel('Last activity')\n",
    "plt.ylabel('Number of people')\n",
    "plt.show()"
   ]
  },
  {
   "cell_type": "markdown",
   "id": "465997ee-5462-4896-b1b6-6f327315aa46",
   "metadata": {},
   "source": [
    "<b>Observations:<b/>\n",
    "- Based on the last activities, the highest number of paying customers are the ones who had recent email activity, about 1000.\n",
    "- The least paying customers are the ones who had their last activity as a phone conversation with a representative, only about 250 people.\n",
    "- Overall the fewest number of people had website activity as their last interaction, but out of all of them, the number of paying customers is not the lowest, about 450."
   ]
  },
  {
   "cell_type": "markdown",
   "id": "alleged-spirituality",
   "metadata": {
    "id": "alleged-spirituality"
   },
   "source": [
    "## Data Preprocessing"
   ]
  },
  {
   "cell_type": "markdown",
   "id": "71e1dd99-1383-47a0-8cfa-ae689ef6d936",
   "metadata": {},
   "source": [
    "<b>Missing values</b>"
   ]
  },
  {
   "cell_type": "code",
   "execution_count": 466,
   "id": "increasing-louisiana",
   "metadata": {
    "id": "increasing-louisiana"
   },
   "outputs": [
    {
     "data": {
      "text/plain": [
       "age                      0\n",
       "current_occupation       0\n",
       "first_interaction        0\n",
       "profile_completed        0\n",
       "website_visits           0\n",
       "time_spent_on_website    0\n",
       "page_views_per_visit     0\n",
       "last_activity            0\n",
       "print_media_type1        0\n",
       "print_media_type2        0\n",
       "digital_media            0\n",
       "educational_channels     0\n",
       "referral                 0\n",
       "status                   0\n",
       "dtype: int64"
      ]
     },
     "execution_count": 466,
     "metadata": {},
     "output_type": "execute_result"
    }
   ],
   "source": [
    "# Missing values check\n",
    "df.isnull().sum()"
   ]
  },
  {
   "cell_type": "markdown",
   "id": "2b2cbebf-ec09-4e03-90af-b651ff64d7b5",
   "metadata": {},
   "source": [
    "<b>Observations:</b>\n",
    "- No missing values detected, no need for missing values treatment."
   ]
  },
  {
   "cell_type": "markdown",
   "id": "38d39ab0-b019-469d-827b-6e8f0c33f06a",
   "metadata": {},
   "source": [
    "<b>Outliers</b>"
   ]
  },
  {
   "cell_type": "code",
   "execution_count": 467,
   "id": "92b061df-f3c9-4107-a55d-6a8eb0be95ec",
   "metadata": {},
   "outputs": [
    {
     "data": {
      "image/png": "[encoded data removed]",
      "text/plain": [
       "<Figure size 432x288 with 1 Axes>"
      ]
     },
     "metadata": {
      "needs_background": "light"
     },
     "output_type": "display_data"
    },
    {
     "data": {
      "image/png": "[encoded data removed]",
      "text/plain": [
       "<Figure size 432x288 with 1 Axes>"
      ]
     },
     "metadata": {
      "needs_background": "light"
     },
     "output_type": "display_data"
    },
    {
     "data": {
      "image/png": "[encoded data removed]",
      "text/plain": [
       "<Figure size 432x288 with 1 Axes>"
      ]
     },
     "metadata": {
      "needs_background": "light"
     },
     "output_type": "display_data"
    },
    {
     "data": {
      "image/png": "[encoded data removed]",
      "text/plain": [
       "<Figure size 432x288 with 1 Axes>"
      ]
     },
     "metadata": {
      "needs_background": "light"
     },
     "output_type": "display_data"
    }
   ],
   "source": [
    "# Outlier detection using boxplots, excluding status\n",
    "for i in ['age', 'website_visits', 'time_spent_on_website', 'page_views_per_visit']:\n",
    "    sns.boxplot(x=df[i])\n",
    "    plt.show()"
   ]
  },
  {
   "cell_type": "markdown",
   "id": "36c5c075-3bf5-4380-947b-ec5a4289709b",
   "metadata": {},
   "source": [
    "<b>Observations:</b>\n",
    "- No visible outliers for age and time spent on the website variables.\n",
    "- Outliers detected for website visits and page views per visit variables.\n",
    "- The website visits variable is not continuous, whereas the page views variable is.\n",
    "- There are a few outliers in page views per visit that are further away than the others, and considering that the whole plot is right skewed, we can use outlier treatment on them."
   ]
  },
  {
   "cell_type": "code",
   "execution_count": 468,
   "id": "13e141af-bb8b-4387-bb54-0c9ff5a11c3e",
   "metadata": {},
   "outputs": [],
   "source": [
    "# Formula to calculate IQR: q3 - q1\n",
    "q1 = df[\"page_views_per_visit\"].quantile(0.25)\n",
    "q3 = df[\"page_views_per_visit\"].quantile(0.75)\n",
    "iqr = q3 - q1"
   ]
  },
  {
   "cell_type": "code",
   "execution_count": 469,
   "id": "fec78e72-e335-4a8e-b8b2-0a9a397ec5b9",
   "metadata": {},
   "outputs": [],
   "source": [
    "# Formula to calculate upper whisker: q3 + 1.5 * IQR\n",
    "whisker = q3 + 1.5 + iqr"
   ]
  },
  {
   "cell_type": "code",
   "execution_count": 470,
   "id": "cffc7592-e8ce-4f07-8aeb-98f631d4bb05",
   "metadata": {},
   "outputs": [],
   "source": [
    "df.loc[df[\"page_views_per_visit\"] > 15.00, \"page_views_per_visit\"] = whisker"
   ]
  },
  {
   "cell_type": "markdown",
   "id": "76c723ce-07c5-46b6-87d9-7e6d180e61e2",
   "metadata": {},
   "source": [
    "<b>Observations:</b>\n",
    "- This outliers treatment works by matching outliers to upper whisker.\n",
    "- Since the page views per visit variable is continuous and has noticeable outliers above 15.00, we perform outlier treatment on it."
   ]
  },
  {
   "cell_type": "markdown",
   "id": "d2c5b47a-c91f-41aa-b408-e964391698a8",
   "metadata": {},
   "source": [
    "<b>Preparing data for modeling</b>"
   ]
  },
  {
   "cell_type": "code",
   "execution_count": 471,
   "id": "e66810d4-d8df-4cd0-a074-f20e00da730f",
   "metadata": {},
   "outputs": [],
   "source": [
    "# Seperate independent variables\n",
    "x = df.drop('status', axis = 1)\n",
    "# Seperate target variable\n",
    "y = df['status']"
   ]
  },
  {
   "cell_type": "code",
   "execution_count": 472,
   "id": "967c90c3-3eb6-4eb8-8eaa-8b2ff3408e2e",
   "metadata": {},
   "outputs": [],
   "source": [
    "# Represent categorical variables with 1s and 0s\n",
    "x = pd.get_dummies(x, drop_first = True)"
   ]
  },
  {
   "cell_type": "code",
   "execution_count": 473,
   "id": "d5858359-ebe7-4eeb-85ff-01c8ede10d26",
   "metadata": {},
   "outputs": [],
   "source": [
    "# Split into training and testing data\n",
    "# Using 30% of data for testing as this is the standard\n",
    "x_train, x_test, y_train, y_test = train_test_split(x, y, test_size = 0.3, random_state = 1, shuffle = True)"
   ]
  },
  {
   "cell_type": "code",
   "execution_count": 474,
   "id": "0f2da41c-5675-4c98-bbdf-f9feebc856e9",
   "metadata": {},
   "outputs": [
    {
     "name": "stdout",
     "output_type": "stream",
     "text": [
      "Training dataset: (3228, 16)\n",
      "Testing dataset: (1384, 16)\n"
     ]
    }
   ],
   "source": [
    "# Make sure data remains the correct size, together [4612 rows x 16 columns]\n",
    "print(\"Training dataset:\", x_train.shape)\n",
    "print(\"Testing dataset:\", x_test.shape)"
   ]
  },
  {
   "cell_type": "code",
   "execution_count": 475,
   "id": "9b316e05-9226-4ac5-9b7b-40a7d47c3eb3",
   "metadata": {},
   "outputs": [],
   "source": [
    "# Confusion matrix and classification report function\n",
    "def metrics_score(actual, predicted):\n",
    "    # Print classification report: precision, recall, f1-score, support\n",
    "    print(classification_report(actual, predicted))\n",
    "\n",
    "    # Create confusion matrix variable\n",
    "    cm = confusion_matrix(actual, predicted)\n",
    "\n",
    "    # Set plot size\n",
    "    plt.figure(figsize = (8, 5))\n",
    "\n",
    "    # Create a heatmap for the confusion matrix\n",
    "    sns.heatmap(cm, annot = True,  fmt = '.2f', xticklabels = ['Not paid', 'Paid'], yticklabels = ['Not paid', 'Paid'])\n",
    "    \n",
    "    # Label axes\n",
    "    plt.ylabel('Actual')\n",
    "    plt.xlabel('Predicted')\n",
    "    plt.show()"
   ]
  },
  {
   "cell_type": "markdown",
   "id": "amazing-fluid",
   "metadata": {
    "id": "amazing-fluid"
   },
   "source": [
    "## Building a Decision Tree model"
   ]
  },
  {
   "cell_type": "code",
   "execution_count": 476,
   "id": "3a802ce8-70af-4d4e-bfc0-048b7c51d228",
   "metadata": {},
   "outputs": [
    {
     "data": {
      "text/plain": [
       "DecisionTreeClassifier(random_state=1)"
      ]
     },
     "execution_count": 476,
     "metadata": {},
     "output_type": "execute_result"
    }
   ],
   "source": [
    "# Build a decision tree classifier\n",
    "dt = DecisionTreeClassifier(random_state = 1)\n",
    "# Fit the classifier on training data\n",
    "dt.fit(x_train, y_train)"
   ]
  },
  {
   "cell_type": "code",
   "execution_count": 477,
   "id": "62818dbd-2c2c-4184-8423-195de0a4ef65",
   "metadata": {},
   "outputs": [
    {
     "name": "stdout",
     "output_type": "stream",
     "text": [
      "              precision    recall  f1-score   support\n",
      "\n",
      "           0       1.00      1.00      1.00      2273\n",
      "           1       1.00      1.00      1.00       955\n",
      "\n",
      "    accuracy                           1.00      3228\n",
      "   macro avg       1.00      1.00      1.00      3228\n",
      "weighted avg       1.00      1.00      1.00      3228\n",
      "\n"
     ]
    },
    {
     "data": {
      "image/png": "[encoded data removed]",
      "text/plain": [
       "<Figure size 576x360 with 2 Axes>"
      ]
     },
     "metadata": {
      "needs_background": "light"
     },
     "output_type": "display_data"
    }
   ],
   "source": [
    "# Checking performance on the training data\n",
    "pred_y_train = dt.predict(x_train)\n",
    "metrics_score(y_train, pred_y_train)"
   ]
  },
  {
   "cell_type": "markdown",
   "id": "e2e56a47-85d5-4e70-94b0-450bc3565c5e",
   "metadata": {},
   "source": [
    "<b>Observations:</b>\n",
    "- The accuracy is 100%, which means that it is perfect.\n",
    "- Precision, recall, and f1-score all have 100% accuracy.\n",
    "- These insights are a bit concerning, there might be a risk of model overfitting."
   ]
  },
  {
   "cell_type": "code",
   "execution_count": 478,
   "id": "33fd752e-2e45-41d2-95fb-560ca99fc687",
   "metadata": {},
   "outputs": [
    {
     "name": "stdout",
     "output_type": "stream",
     "text": [
      "              precision    recall  f1-score   support\n",
      "\n",
      "           0       0.87      0.86      0.87       962\n",
      "           1       0.69      0.70      0.70       422\n",
      "\n",
      "    accuracy                           0.81      1384\n",
      "   macro avg       0.78      0.78      0.78      1384\n",
      "weighted avg       0.81      0.81      0.81      1384\n",
      "\n"
     ]
    },
    {
     "data": {
      "image/png": "[encoded data removed]",
      "text/plain": [
       "<Figure size 576x360 with 2 Axes>"
      ]
     },
     "metadata": {
      "needs_background": "light"
     },
     "output_type": "display_data"
    }
   ],
   "source": [
    "# Checking performance on the test data\n",
    "pred_y_test = dt.predict(x_test)\n",
    "metrics_score(y_test, pred_y_test)"
   ]
  },
  {
   "cell_type": "markdown",
   "id": "b494224b-9511-432d-9585-14c7bc97273d",
   "metadata": {},
   "source": [
    "<b>Observations:</b>\n",
    "- The accuracy of this model is 81%.\n",
    "- For status 0, precision, recall and f1-score are all high, 87%, 86% and 87% respectively.\n",
    "- For state 1, precision, recall and f1-score were not as high, 69%, 70% and 70% respectively.\n",
    "- This indicates an imbalance in the weights between paid and not paid customers. Not-paid customers are the majority. In this case, we want to focus on leads that are likely to convert, therefore we need to use class weights to fix the imbalance.\n",
    "- Need to fix overfitting."
   ]
  },
  {
   "cell_type": "code",
   "execution_count": 479,
   "id": "773adcb0-32d6-4434-b1cd-14b77c13f28e",
   "metadata": {},
   "outputs": [
    {
     "name": "stdout",
     "output_type": "stream",
     "text": [
      "0    0.701431\n",
      "1    0.298569\n",
      "Name: status, dtype: float64\n"
     ]
    }
   ],
   "source": [
    "# Using 1 to normalize the proportion of the status variable\n",
    "# Will use opposite values in class weight to fix the imbalance\n",
    "print(df['status'].value_counts(1))"
   ]
  },
  {
   "cell_type": "markdown",
   "id": "limited-strengthening",
   "metadata": {
    "id": "limited-strengthening"
   },
   "source": [
    "## Model Performance evaluation and improvement"
   ]
  },
  {
   "cell_type": "code",
   "execution_count": 480,
   "id": "4cc5811c-f6f0-4185-8aa8-e5ebea4e31e7",
   "metadata": {},
   "outputs": [
    {
     "data": {
      "text/plain": [
       "DecisionTreeClassifier(class_weight={0: 0.3, 1: 0.7}, criterion='entropy',\n",
       "                       max_depth=3, min_samples_leaf=5, random_state=1)"
      ]
     },
     "execution_count": 480,
     "metadata": {},
     "output_type": "execute_result"
    }
   ],
   "source": [
    "# Including class_weight hyperparameter based on normalized status variable results to reduce the bias of the model\n",
    "tuned_dt = DecisionTreeClassifier(class_weight = {0: 0.30, 1: 0.70}, random_state = 1)\n",
    "\n",
    "parameters = {\n",
    "    'max_depth': np.arange(2,20),\n",
    "    'min_samples_leaf': np.arange(5,10),\n",
    "    'criterion': ['gini', 'entropy']\n",
    "}\n",
    "\n",
    "# Use recall for class 1 when comparing parameters\n",
    "scorer = metrics.make_scorer(recall_score, pos_label = 1)\n",
    "\n",
    "# Perform grid search\n",
    "grid_obj = GridSearchCV(tuned_dt, parameters, scoring = scorer, cv = 10)\n",
    "grid_obj = grid_obj.fit(x_train, y_train)\n",
    "\n",
    "# Classifier is set to the best combination of parameters\n",
    "tuned_dt = grid_obj.best_estimator_\n",
    "\n",
    "# Best algorithm fit to the data\n",
    "tuned_dt.fit(x_train, y_train)"
   ]
  },
  {
   "cell_type": "code",
   "execution_count": 481,
   "id": "64d03d46-58fe-4446-93a3-5945d3879571",
   "metadata": {},
   "outputs": [
    {
     "name": "stdout",
     "output_type": "stream",
     "text": [
      "              precision    recall  f1-score   support\n",
      "\n",
      "           0       0.94      0.77      0.85      2273\n",
      "           1       0.62      0.88      0.73       955\n",
      "\n",
      "    accuracy                           0.80      3228\n",
      "   macro avg       0.78      0.83      0.79      3228\n",
      "weighted avg       0.84      0.80      0.81      3228\n",
      "\n"
     ]
    },
    {
     "data": {
      "image/png": "[encoded data removed]",
      "text/plain": [
       "<Figure size 576x360 with 2 Axes>"
      ]
     },
     "metadata": {
      "needs_background": "light"
     },
     "output_type": "display_data"
    }
   ],
   "source": [
    "# Checking performance on the training data\n",
    "pred_y_train_tuned = tuned_dt.predict(x_train)\n",
    "metrics_score(y_train, pred_y_train_tuned)"
   ]
  },
  {
   "cell_type": "markdown",
   "id": "30401812-a22b-4ab4-b698-ea39be171613",
   "metadata": {},
   "source": [
    "<b>Observations:</b>\n",
    "- After performing hyperparameter tuning, the accuracy of training data has decreased by 20%.\n",
    "- This is because we reduced the complexity of the tree by setting max_depth to 3.\n",
    "- Since we reduced overfitting, the accuracy also decreased on a training set."
   ]
  },
  {
   "cell_type": "code",
   "execution_count": 482,
   "id": "5feb9bee-cd81-4c00-a3d7-4c9a62bfd64c",
   "metadata": {},
   "outputs": [
    {
     "name": "stdout",
     "output_type": "stream",
     "text": [
      "              precision    recall  f1-score   support\n",
      "\n",
      "           0       0.93      0.77      0.84       962\n",
      "           1       0.62      0.86      0.72       422\n",
      "\n",
      "    accuracy                           0.80      1384\n",
      "   macro avg       0.77      0.82      0.78      1384\n",
      "weighted avg       0.83      0.80      0.80      1384\n",
      "\n"
     ]
    },
    {
     "data": {
      "image/png": "[encoded data removed]",
      "text/plain": [
       "<Figure size 576x360 with 2 Axes>"
      ]
     },
     "metadata": {
      "needs_background": "light"
     },
     "output_type": "display_data"
    }
   ],
   "source": [
    "# Checking performance on the test data\n",
    "pred_y_test_tuned = tuned_dt.predict(x_test)\n",
    "metrics_score(y_test, pred_y_test_tuned)"
   ]
  },
  {
   "cell_type": "markdown",
   "id": "b8b38f30-ae39-4525-8d25-338dabc152cd",
   "metadata": {},
   "source": [
    "<b>Observations:</b>\n",
    "- The recall for state 1 has increased by 16% compared to the previous model, this means that people who are converted are identified but since precision decreased by 1%, it identifies that there might be more people identified as converted customers when in reality they are not.\n",
    "- This does not affect our solution much since we are focusing on identifying customers that might convert and it would be worse to lose a potential customer."
   ]
  },
  {
   "cell_type": "code",
   "execution_count": 483,
   "id": "ebf9d598-f72c-4799-b73f-59bccce6194b",
   "metadata": {},
   "outputs": [
    {
     "data": {
      "image/png": "[encoded data removed]",
      "text/plain": [
       "<Figure size 720x720 with 1 Axes>"
      ]
     },
     "metadata": {
      "needs_background": "light"
     },
     "output_type": "display_data"
    }
   ],
   "source": [
    "# Checking feature importance\n",
    "importances = tuned_dt.feature_importances_\n",
    "indices = np.argsort(importances)\n",
    "\n",
    "names = list(x.columns)\n",
    "\n",
    "plt.figure(figsize = (10, 10))\n",
    "plt.barh(range(len(indices)), importances[indices])\n",
    "\n",
    "plt.yticks(range(len(indices)), [names[i] for i in indices])\n",
    "plt.xlabel('Relative Importance')\n",
    "plt.show()"
   ]
  },
  {
   "cell_type": "markdown",
   "id": "c70c8433-7e0a-4379-a5d6-8ef58f1ac0c6",
   "metadata": {},
   "source": [
    "<b>Observations:</b>\n",
    "- The features importance bar plot indicates that the most important features which determine if the customer will convert to a paying customer are time spent on the website.\n",
    "- It is followed by how customers interact with the platform. The website interactions attract a lot of paying customers.\n",
    "- Completion of the profile should be at least halfway done to have a paying customer.\n",
    "- The age also plays an important role in conversion but is less important than the ones mentioned above. "
   ]
  },
  {
   "cell_type": "markdown",
   "id": "a8c47c07",
   "metadata": {
    "id": "amazing-fluid"
   },
   "source": [
    "## Building a Random Forest model"
   ]
  },
  {
   "cell_type": "code",
   "execution_count": 484,
   "id": "03beacaf-87c2-472a-8451-06ca1b89ffe1",
   "metadata": {},
   "outputs": [
    {
     "data": {
      "text/plain": [
       "RandomForestClassifier(random_state=1)"
      ]
     },
     "execution_count": 484,
     "metadata": {},
     "output_type": "execute_result"
    }
   ],
   "source": [
    "# Build a random forest tree classifier\n",
    "rf = RandomForestClassifier(random_state = 1)\n",
    "# Fit the classifier on training data\n",
    "rf.fit(x_train,y_train)"
   ]
  },
  {
   "cell_type": "code",
   "execution_count": 485,
   "id": "0f5dd985-ceb2-4525-b515-6a9952cbf2d9",
   "metadata": {},
   "outputs": [
    {
     "name": "stdout",
     "output_type": "stream",
     "text": [
      "              precision    recall  f1-score   support\n",
      "\n",
      "           0       1.00      1.00      1.00      2273\n",
      "           1       1.00      1.00      1.00       955\n",
      "\n",
      "    accuracy                           1.00      3228\n",
      "   macro avg       1.00      1.00      1.00      3228\n",
      "weighted avg       1.00      1.00      1.00      3228\n",
      "\n"
     ]
    },
    {
     "data": {
      "image/png": "[encoded data removed]",
      "text/plain": [
       "<Figure size 576x360 with 2 Axes>"
      ]
     },
     "metadata": {
      "needs_background": "light"
     },
     "output_type": "display_data"
    }
   ],
   "source": [
    "# Checking performance on the train data\n",
    "pred_y_train = rf.predict(x_train)\n",
    "metrics_score(y_train, pred_y_train)"
   ]
  },
  {
   "cell_type": "markdown",
   "id": "1d013cd4-d76d-4bf8-99ed-aa011a6ae75e",
   "metadata": {},
   "source": [
    "<b>Observations:</b>\n",
    "- The accuracy is 100%, which means that it is perfect.\n",
    "- Precision, recall, and f1-score all have 100% accuracy.\n",
    "- These insights are a bit concerning, there might be a risk of model overfitting."
   ]
  },
  {
   "cell_type": "code",
   "execution_count": 486,
   "id": "8bbd87fb",
   "metadata": {},
   "outputs": [
    {
     "name": "stdout",
     "output_type": "stream",
     "text": [
      "              precision    recall  f1-score   support\n",
      "\n",
      "           0       0.87      0.92      0.89       962\n",
      "           1       0.78      0.68      0.73       422\n",
      "\n",
      "    accuracy                           0.84      1384\n",
      "   macro avg       0.82      0.80      0.81      1384\n",
      "weighted avg       0.84      0.84      0.84      1384\n",
      "\n"
     ]
    },
    {
     "data": {
      "image/png": "[encoded data removed]",
      "text/plain": [
       "<Figure size 576x360 with 2 Axes>"
      ]
     },
     "metadata": {
      "needs_background": "light"
     },
     "output_type": "display_data"
    }
   ],
   "source": [
    "# Checking performance on the test data\n",
    "pred_y_test = rf.predict(x_test)\n",
    "metrics_score(y_test, pred_y_test)"
   ]
  },
  {
   "cell_type": "markdown",
   "id": "193b4f84-749c-47f4-a782-a34b720faa46",
   "metadata": {},
   "source": [
    "<b>Observations:</b>\n",
    "- Overall accuracy is 84%. This is higher than the first Decision Tree model.\n",
    "- For status 0, precision, recall and f1-score are all high, 87%, 92% and 89% respectively.\n",
    "- For state 1, precision, recall and f1-score were not as high, 78%, 68% and 73% respectively.\n",
    "- For status 0, the recall is higher than precision which indicates that this model is good at identifying true negatives, but is not as good at avoiding false positives.\n",
    "- For status 1, the precision is higher than recall which indicates fewer false positives, but also missing some true positives.\n",
    "- The f1-score was higher for state 0 than state 1, this means the model better identifies customers who do not pay.\n",
    "- This model is good if identifying non-paying customers is more important, but in our case, it is more important to find paying customers.\n",
    "- Need to fix overfitting."
   ]
  },
  {
   "cell_type": "markdown",
   "id": "11bc14ca",
   "metadata": {},
   "source": [
    "## Model Performance evaluation and improvement"
   ]
  },
  {
   "cell_type": "code",
   "execution_count": 487,
   "id": "65f89cc9",
   "metadata": {},
   "outputs": [
    {
     "data": {
      "text/plain": [
       "RandomForestClassifier(class_weight={0: 0.3, 1: 0.7}, criterion='entropy',\n",
       "                       max_depth=5, max_features=0.8, n_estimators=110,\n",
       "                       random_state=1)"
      ]
     },
     "execution_count": 487,
     "metadata": {},
     "output_type": "execute_result"
    }
   ],
   "source": [
    "tuned_rf = RandomForestClassifier(class_weight = {0: 0.3, 1: 0.7}, random_state = 1, criterion = 'entropy')\n",
    "\n",
    "parameters = {\n",
    "    'max_depth': [5, 10, 15],\n",
    "    'n_estimators': [100, 110],\n",
    "    'max_features': [0.8, 1]\n",
    "}\n",
    "\n",
    "# Use recall for class 1 when comparing parameters\n",
    "scorer = metrics.make_scorer(recall_score, pos_label = 1)\n",
    "\n",
    "# Perform grid search\n",
    "grid_obj = GridSearchCV(tuned_rf, parameters, scoring = scorer, cv = 5)\n",
    "grid_obj = grid_obj.fit(x_train, y_train)\n",
    "\n",
    "# Classifier is set to the best combination of parameters\n",
    "tuned_rf = grid_obj.best_estimator_\n",
    "\n",
    "# Best algorithm fit to the data\n",
    "tuned_rf.fit(x_train, y_train)"
   ]
  },
  {
   "cell_type": "code",
   "execution_count": 488,
   "id": "4aebbe3a-ce15-4c20-b2cf-169a59df5f21",
   "metadata": {},
   "outputs": [
    {
     "name": "stdout",
     "output_type": "stream",
     "text": [
      "              precision    recall  f1-score   support\n",
      "\n",
      "           0       0.94      0.83      0.88      2273\n",
      "           1       0.69      0.87      0.77       955\n",
      "\n",
      "    accuracy                           0.84      3228\n",
      "   macro avg       0.81      0.85      0.83      3228\n",
      "weighted avg       0.86      0.84      0.85      3228\n",
      "\n"
     ]
    },
    {
     "data": {
      "image/png": "[encoded data removed]",
      "text/plain": [
       "<Figure size 576x360 with 2 Axes>"
      ]
     },
     "metadata": {
      "needs_background": "light"
     },
     "output_type": "display_data"
    }
   ],
   "source": [
    "# Checking performance on the training data\n",
    "pred_y_train_tuned = tuned_rf.predict(x_train)\n",
    "metrics_score(y_train, pred_y_train_tuned)"
   ]
  },
  {
   "cell_type": "markdown",
   "id": "f6007ad5-2ddf-45a6-84e7-860c40655922",
   "metadata": {},
   "source": [
    "<b>Observations:</b>\n",
    "- After performing hyperparameter tuning, the accuracy of training data has decreased by 16%.\n",
    "- This is because we reduced the complexity of the tree by setting max_depth to 5.\n",
    "- Since we reduced overfitting, the accuracy also decreased on a training set."
   ]
  },
  {
   "cell_type": "code",
   "execution_count": 489,
   "id": "d746d107-b7f7-4e35-b556-051c987c85a7",
   "metadata": {},
   "outputs": [
    {
     "name": "stdout",
     "output_type": "stream",
     "text": [
      "              precision    recall  f1-score   support\n",
      "\n",
      "           0       0.93      0.84      0.88       962\n",
      "           1       0.70      0.86      0.77       422\n",
      "\n",
      "    accuracy                           0.84      1384\n",
      "   macro avg       0.81      0.85      0.82      1384\n",
      "weighted avg       0.86      0.84      0.85      1384\n",
      "\n"
     ]
    },
    {
     "data": {
      "image/png": "[encoded data removed]",
      "text/plain": [
       "<Figure size 576x360 with 2 Axes>"
      ]
     },
     "metadata": {
      "needs_background": "light"
     },
     "output_type": "display_data"
    }
   ],
   "source": [
    "# Checking performance on the test data\n",
    "pred_y_test_tuned = tuned_rf.predict(x_test)\n",
    "metrics_score(y_test, pred_y_test_tuned)"
   ]
  },
  {
   "cell_type": "markdown",
   "id": "dc1258ef-3cfa-48fe-8664-05727673d39e",
   "metadata": {},
   "source": [
    "<b>Observations:</b>\n",
    "- The recall for state 1 has increased by 18% compared to the previous model, this means that people who are converted are identified but since precision decreased by 8%, it identifies that there might be more people identified as converted customers when in reality they are not.\n",
    "- This does not affect our solution much since we are focusing on identifying customers that might convert and it would be worse to lose a potential customer."
   ]
  },
  {
   "cell_type": "code",
   "execution_count": 490,
   "id": "5757c8c2-57eb-40c2-bcc4-28a1da7ac821",
   "metadata": {},
   "outputs": [
    {
     "data": {
      "image/png": "[encoded data removed]",
      "text/plain": [
       "<Figure size 720x720 with 1 Axes>"
      ]
     },
     "metadata": {
      "needs_background": "light"
     },
     "output_type": "display_data"
    }
   ],
   "source": [
    "# Checking feature importance\n",
    "importances = tuned_rf.feature_importances_\n",
    "indices = np.argsort(importances)\n",
    "\n",
    "names = list(x.columns)\n",
    "\n",
    "plt.figure(figsize = (10, 10))\n",
    "plt.barh(range(len(indices)), importances[indices])\n",
    "\n",
    "plt.yticks(range(len(indices)), [names[i] for i in indices])\n",
    "plt.xlabel('Relative Importance')\n",
    "plt.show()"
   ]
  },
  {
   "cell_type": "markdown",
   "id": "4dc4f1b6-fb51-4d0f-9a68-79877cd725b5",
   "metadata": {},
   "source": [
    "<b>Observations:</b>\n",
    "- The features importance bar plot indicates that the most important features which determine if the customer will convert to a paying customer are time spent on the website, the same as with a decision tree model.\n",
    "- It is followed by how customers interact with the platform. The website interactions attract a lot of paying customers.\n",
    "- Completion of the profile should be at least halfway done to have a paying customer.\n",
    "- The age also plays an important role in conversion but is less important than the ones mentioned above.\n",
    "- A noticeable difference from the decision tree model is that now more features can be identified as having a significant role in the conversion process. These include people who are students, last interacted with ExtraaLearn through a website, unemployed people, number of website visits."
   ]
  },
  {
   "cell_type": "markdown",
   "id": "nasty-retailer",
   "metadata": {
    "id": "nasty-retailer"
   },
   "source": [
    "## Actionable Insights and Recommendations"
   ]
  },
  {
   "cell_type": "markdown",
   "id": "0f4f81d8-0b6e-4760-8e46-db2c27d78ceb",
   "metadata": {
    "id": "amino-prediction"
   },
   "source": [
    "<b>Conclusions and Recommendations:</b>\n",
    "- After analysing the data, we can tell that most people who convert to paid customers are the ones who spend the most time on the website. The business should strive to engage the user to stay on their website longer for them to be willing to pay.\n",
    "- We noticed that current advertisement tactics do not drive that many people to convert to paying customers. It was either a very small percentage of people did not even see the ad. This could be improved by choosing channels that worked best such as increasing the number of referrals. This could be encouraged with incentives to refer a friend.\n",
    "- Overall, the portion of people who are not paying customers is significantly higher than paying customers. It would be good to perform this analysis in the future again to check how implemented changes have affected the predictions and number of paying customers."
   ]
  }
 ],
 "metadata": {
  "colab": {
   "collapsed_sections": [],
   "name": "ExtraaLearn_Project_Template_Notebook.ipynb",
   "provenance": []
  },
  "kernelspec": {
   "display_name": "Python 3",
   "language": "python",
   "name": "python3"
  },
  "language_info": {
   "codemirror_mode": {
    "name": "ipython",
    "version": 3
   },
   "file_extension": ".py",
   "mimetype": "text/x-python",
   "name": "python",
   "nbconvert_exporter": "python",
   "pygments_lexer": "ipython3",
   "version": "3.8.8"
  }
 },
 "nbformat": 4,
 "nbformat_minor": 5
}
